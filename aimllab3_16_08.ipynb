{
  "nbformat": 4,
  "nbformat_minor": 0,
  "metadata": {
    "colab": {
      "provenance": [],
      "authorship_tag": "ABX9TyPyChJJXeN3AbAVAELbCCPQ",
      "include_colab_link": true
    },
    "kernelspec": {
      "name": "python3",
      "display_name": "Python 3"
    },
    "language_info": {
      "name": "python"
    }
  },
  "cells": [
    {
      "cell_type": "markdown",
      "metadata": {
        "id": "view-in-github",
        "colab_type": "text"
      },
      "source": [
        "<a href=\"https://colab.research.google.com/github/Ramcha6an/23CSBTB29/blob/main/aimllab3_16_08.ipynb\" target=\"_parent\"><img src=\"https://colab.research.google.com/assets/colab-badge.svg\" alt=\"Open In Colab\"/></a>"
      ]
    },
    {
      "cell_type": "code",
      "execution_count": 1,
      "metadata": {
        "colab": {
          "base_uri": "https://localhost:8080/"
        },
        "id": "HYdpo4sD1uv9",
        "outputId": "d53ccd3f-edd0-4aa5-d01d-bd731c37f164"
      },
      "outputs": [
        {
          "output_type": "stream",
          "name": "stdout",
          "text": [
            "    SId   student name   course  contact number  admit year     roll no year  \\\n",
            "0     1  E.Sai  Anurath  B.TECH      8885299732        2023  2303a51560  2nd   \n",
            "1     2       T.Snuhith  B.TECH      9652594966        2023  2303a52108  2nd   \n",
            "2     3       Ch.vineet  B.TECH      9876543210        2023  2303a52445  2nd   \n",
            "3     4       ch.charan  B.TECH      8527419638        2023  2303a51472  2nd   \n",
            "4     5     A.Ramcharan  B.TECH      6987456321        2023  2303a51091  2nd   \n",
            "5     6       A.rithika  B.TECH      6987465123        2023  2303a51498  2nd   \n",
            "6     7       vedha sri  B.TECH      8567432195        2023  2303a51499  2nd   \n",
            "7     8    S.pranav sai  B.TECH      9663355817        2023  2303a51500  2nd   \n",
            "8     9       k.akshith  B.TECH      9887845646        2023  2303a51501  2nd   \n",
            "9    10     adithya raj  B.TECH      8978946545        2023  2303a51502  2nd   \n",
            "10   11       sushwanth  B.TECH      9864896546        2023  2303a51503  2nd   \n",
            "11   12        sushanth  B.TECH      9889846549        2023  2303a51504  2nd   \n",
            "12   13    vivek charan  B.TECH      9889846550        2023  2303a51505  2nd   \n",
            "13   14          ashwin  B.TECH      9889846551        2023  2303a51506  2nd   \n",
            "14   15  sathwik jyothi  B.TECH      9889846552        2023  2303a51507  2nd   \n",
            "15   16       chranvika  B.TECH      9889846553        2023  2303a51508  2nd   \n",
            "16   17        ashritha  B.TECH      9889846554        2023  2303a51509  2nd   \n",
            "17   18     lakum vivek  B.TECH      9889846555        2023  2303a51510  2nd   \n",
            "18   19         dineesh  B.TECH      9889846556        2023  2303a51511  2nd   \n",
            "19   20          pranav  B.TECH      9889846557        2023  2303a51512  2nd   \n",
            "\n",
            "   semister branch  \n",
            "0       3rd  C.S.E  \n",
            "1       3rd  C.S.E  \n",
            "2       3rd  C.S.E  \n",
            "3       3rd  C.S.E  \n",
            "4       3rd  C.S.E  \n",
            "5       3rd  C.S.E  \n",
            "6       3rd  C.S.E  \n",
            "7       3rd  C.S.E  \n",
            "8       3rd  C.S.E  \n",
            "9       3rd  C.S.E  \n",
            "10      3rd  C.S.E  \n",
            "11      3rd  C.S.E  \n",
            "12      3rd  C.S.E  \n",
            "13      3rd  C.S.E  \n",
            "14      3rd  C.S.E  \n",
            "15      3rd  C.S.E  \n",
            "16      3rd  C.S.E  \n",
            "17      3rd  C.S.E  \n",
            "18      3rd  C.S.E  \n",
            "19      3rd  C.S.E  \n"
          ]
        }
      ],
      "source": [
        "import pandas as pd\n",
        "data =pd.read_excel(\"/content/lab aiml part3.xlsx\")\n",
        "print(data)\n"
      ]
    },
    {
      "cell_type": "code",
      "source": [
        "import pandas as pd\n",
        "data = pd.read_csv(\"/content/lab aiml part3.csv\")\n",
        "print(data)"
      ],
      "metadata": {
        "colab": {
          "base_uri": "https://localhost:8080/"
        },
        "id": "RtGY08J14d87",
        "outputId": "99655c36-fdd3-4eb6-f555-b1e98d8fb60a"
      },
      "execution_count": 2,
      "outputs": [
        {
          "output_type": "stream",
          "name": "stdout",
          "text": [
            "    SId   student name   course  contact number  admit year     roll no year  \\\n",
            "0     1  E.Sai  Anurath  B.TECH      8885299732        2023  2303a51560  2nd   \n",
            "1     2       T.Snuhith  B.TECH      9652594966        2023  2303a52108  2nd   \n",
            "2     3       Ch.vineet  B.TECH      9876543210        2023  2303a52445  2nd   \n",
            "3     4       ch.charan  B.TECH      8527419638        2023  2303a51472  2nd   \n",
            "4     5     A.Ramcharan  B.TECH      6987456321        2023  2303a51091  2nd   \n",
            "5     6       A.rithika  B.TECH      6987465123        2023  2303a51498  2nd   \n",
            "6     7       vedha sri  B.TECH      8567432195        2023  2303a51499  2nd   \n",
            "7     8    S.pranav sai  B.TECH      9663355817        2023  2303a51500  2nd   \n",
            "8     9       k.akshith  B.TECH      9887845646        2023  2303a51501  2nd   \n",
            "9    10     adithya raj  B.TECH      8978946545        2023  2303a51502  2nd   \n",
            "10   11       sushwanth  B.TECH      9864896546        2023  2303a51503  2nd   \n",
            "11   12        sushanth  B.TECH      9889846549        2023  2303a51504  2nd   \n",
            "12   13    vivek charan  B.TECH      9889846550        2023  2303a51505  2nd   \n",
            "13   14          ashwin  B.TECH      9889846551        2023  2303a51506  2nd   \n",
            "14   15  sathwik jyothi  B.TECH      9889846552        2023  2303a51507  2nd   \n",
            "15   16       chranvika  B.TECH      9889846553        2023  2303a51508  2nd   \n",
            "16   17        ashritha  B.TECH      9889846554        2023  2303a51509  2nd   \n",
            "17   18     lakum vivek  B.TECH      9889846555        2023  2303a51510  2nd   \n",
            "18   19         dineesh  B.TECH      9889846556        2023  2303a51511  2nd   \n",
            "19   20          pranav  B.TECH      9889846557        2023  2303a51512  2nd   \n",
            "\n",
            "   semister branch  Unnamed: 9  \n",
            "0       3rd  C.S.E         NaN  \n",
            "1       3rd  C.S.E         NaN  \n",
            "2       3rd  C.S.E         NaN  \n",
            "3       3rd  C.S.E         NaN  \n",
            "4       3rd  C.S.E         NaN  \n",
            "5       3rd  C.S.E         NaN  \n",
            "6       3rd  C.S.E         NaN  \n",
            "7       3rd  C.S.E         NaN  \n",
            "8       3rd  C.S.E         NaN  \n",
            "9       3rd  C.S.E         NaN  \n",
            "10      3rd  C.S.E         NaN  \n",
            "11      3rd  C.S.E         NaN  \n",
            "12      3rd  C.S.E         NaN  \n",
            "13      3rd  C.S.E         NaN  \n",
            "14      3rd  C.S.E         NaN  \n",
            "15      3rd  C.S.E         NaN  \n",
            "16      3rd  C.S.E         NaN  \n",
            "17      3rd  C.S.E         NaN  \n",
            "18      3rd  C.S.E         NaN  \n",
            "19      3rd  C.S.E         NaN  \n"
          ]
        }
      ]
    },
    {
      "cell_type": "code",
      "source": [
        "import pandas as pd\n",
        "data = pd.read_csv(\"/content/heart.csv\")\n",
        "print(data)"
      ],
      "metadata": {
        "colab": {
          "base_uri": "https://localhost:8080/"
        },
        "id": "ISnb-a568JtC",
        "outputId": "4de33238-fcb0-434b-c475-753a4abd3725"
      },
      "execution_count": 3,
      "outputs": [
        {
          "output_type": "stream",
          "name": "stdout",
          "text": [
            "      age  sex  cp  trestbps  chol  fbs  restecg  thalach  exang  oldpeak  \\\n",
            "0      52    1   0       125   212    0        1      168      0      1.0   \n",
            "1      53    1   0       140   203    1        0      155      1      3.1   \n",
            "2      70    1   0       145   174    0        1      125      1      2.6   \n",
            "3      61    1   0       148   203    0        1      161      0      0.0   \n",
            "4      62    0   0       138   294    1        1      106      0      1.9   \n",
            "...   ...  ...  ..       ...   ...  ...      ...      ...    ...      ...   \n",
            "1020   59    1   1       140   221    0        1      164      1      0.0   \n",
            "1021   60    1   0       125   258    0        0      141      1      2.8   \n",
            "1022   47    1   0       110   275    0        0      118      1      1.0   \n",
            "1023   50    0   0       110   254    0        0      159      0      0.0   \n",
            "1024   54    1   0       120   188    0        1      113      0      1.4   \n",
            "\n",
            "      slope  ca  thal  target  \n",
            "0         2   2     3       0  \n",
            "1         0   0     3       0  \n",
            "2         0   0     3       0  \n",
            "3         2   1     3       0  \n",
            "4         1   3     2       0  \n",
            "...     ...  ..   ...     ...  \n",
            "1020      2   0     2       1  \n",
            "1021      1   1     3       0  \n",
            "1022      1   1     2       0  \n",
            "1023      2   0     2       1  \n",
            "1024      1   1     3       0  \n",
            "\n",
            "[1025 rows x 14 columns]\n"
          ]
        }
      ]
    },
    {
      "cell_type": "code",
      "source": [
        "import pandas as pd\n",
        "data = pd.read_table(\"/content/aiml lab 3.txt\")\n",
        "print(data)"
      ],
      "metadata": {
        "colab": {
          "base_uri": "https://localhost:8080/"
        },
        "id": "bju7FjhQ9i8S",
        "outputId": "0637ec50-3506-4924-ccc1-05bb5e01352c"
      },
      "execution_count": 6,
      "outputs": [
        {
          "output_type": "stream",
          "name": "stdout",
          "text": [
            "    SId   student name   course  contact number  admit year     roll no year  \\\n",
            "0     1  E.Sai  Anurath  B.TECH      8885299732        2023  2303a51560  2nd   \n",
            "1     2       T.Snuhith  B.TECH      9652594966        2023  2303a52108  2nd   \n",
            "2     3       Ch.vineet  B.TECH      9876543210        2023  2303a52445  2nd   \n",
            "3     4       ch.charan  B.TECH      8527419638        2023  2303a51472  2nd   \n",
            "4     5     A.Ramcharan  B.TECH      6987456321        2023  2303a51091  2nd   \n",
            "5     6       A.rithika  B.TECH      6987465123        2023  2303a51498  2nd   \n",
            "6     7       vedha sri  B.TECH      8567432195        2023  2303a51499  2nd   \n",
            "7     8    S.pranav sai  B.TECH      9663355817        2023  2303a51500  2nd   \n",
            "8     9       k.akshith  B.TECH      9887845646        2023  2303a51501  2nd   \n",
            "9    10     adithya raj  B.TECH      8978946545        2023  2303a51502  2nd   \n",
            "10   11       sushwanth  B.TECH      9864896546        2023  2303a51503  2nd   \n",
            "11   12        sushanth  B.TECH      9889846549        2023  2303a51504  2nd   \n",
            "12   13    vivek charan  B.TECH      9889846550        2023  2303a51505  2nd   \n",
            "13   14          ashwin  B.TECH      9889846551        2023  2303a51506  2nd   \n",
            "14   15  sathwik jyothi  B.TECH      9889846552        2023  2303a51507  2nd   \n",
            "15   16       chranvika  B.TECH      9889846553        2023  2303a51508  2nd   \n",
            "16   17        ashritha  B.TECH      9889846554        2023  2303a51509  2nd   \n",
            "17   18     lakum vivek  B.TECH      9889846555        2023  2303a51510  2nd   \n",
            "18   19         dineesh  B.TECH      9889846556        2023  2303a51511  2nd   \n",
            "19   20          pranav  B.TECH      9889846557        2023  2303a51512  2nd   \n",
            "\n",
            "   semister branch  Unnamed: 9  \n",
            "0       3rd  C.S.E         NaN  \n",
            "1       3rd  C.S.E         NaN  \n",
            "2       3rd  C.S.E         NaN  \n",
            "3       3rd  C.S.E         NaN  \n",
            "4       3rd  C.S.E         NaN  \n",
            "5       3rd  C.S.E         NaN  \n",
            "6       3rd  C.S.E         NaN  \n",
            "7       3rd  C.S.E         NaN  \n",
            "8       3rd  C.S.E         NaN  \n",
            "9       3rd  C.S.E         NaN  \n",
            "10      3rd  C.S.E         NaN  \n",
            "11      3rd  C.S.E         NaN  \n",
            "12      3rd  C.S.E         NaN  \n",
            "13      3rd  C.S.E         NaN  \n",
            "14      3rd  C.S.E         NaN  \n",
            "15      3rd  C.S.E         NaN  \n",
            "16      3rd  C.S.E         NaN  \n",
            "17      3rd  C.S.E         NaN  \n",
            "18      3rd  C.S.E         NaN  \n",
            "19      3rd  C.S.E         NaN  \n"
          ]
        }
      ]
    },
    {
      "cell_type": "code",
      "source": [
        "import pandas as pd\n",
        "data =pd.read_csv(\"/content/games_dataset (1).csv\")\n",
        "print(data)"
      ],
      "metadata": {
        "colab": {
          "base_uri": "https://localhost:8080/"
        },
        "id": "7161WOEv-d-h",
        "outputId": "b9f736a3-ee4f-4228-d400-648ece2b213a"
      },
      "execution_count": 8,
      "outputs": [
        {
          "output_type": "stream",
          "name": "stdout",
          "text": [
            "                                    Game Name       Genre         Platform  \\\n",
            "0                   Sekiro: Shadows Die Twice      Sports  Nintendo Switch   \n",
            "1                                     Control      Puzzle  Nintendo Switch   \n",
            "2                                    Among Us    Strategy  Nintendo Switch   \n",
            "3                Call of Duty: Modern Warfare     Stealth      PlayStation   \n",
            "4                           League of Legends  Simulation               PC   \n",
            "...                                       ...         ...              ...   \n",
            "4995  The Legend of Zelda: Breath of the Wild      Sports               PC   \n",
            "4996                Assassin's Creed Valhalla     Stealth           Mobile   \n",
            "4997             Fall Guys: Ultimate Knockout      Sports           Mobile   \n",
            "4998                            Borderlands 3  Platformer             Xbox   \n",
            "4999         Counter-Strike: Global Offensive      Action      PlayStation   \n",
            "\n",
            "      Release Year  User Rating  \n",
            "0             2014     9.654719  \n",
            "1             2000     3.457386  \n",
            "2             2007     5.367622  \n",
            "3             2005     1.240325  \n",
            "4             2021     3.535476  \n",
            "...            ...          ...  \n",
            "4995          2013     6.352838  \n",
            "4996          2020     1.852730  \n",
            "4997          2021     5.268067  \n",
            "4998          2018     4.558510  \n",
            "4999          2022     3.443231  \n",
            "\n",
            "[5000 rows x 5 columns]\n"
          ]
        }
      ]
    }
  ]
}